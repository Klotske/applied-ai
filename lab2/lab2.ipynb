{
  "cells":[
    {
      "cell_type":"markdown",
      "source":[
        "## Прогнозирование цен на жилье с помощью нейросетевой регрессионной модели\n",
        "\n",
        "Необходимо по имеющимся данным о ценах на жильё предсказать окончательную цену каждого дома с учетом характеристик домов с использованием нейронной сети. Описание набора данных  содержит 80 классов (набор переменых) классификации оценки типа жилья, и находится в файле `data_description.txt`.\n",
        "\n",
        "В работе требуется дополнить раздел «Моделирование» в подразделе «Построение и обучение модели» создать и инициализировать последовательную модель нейронной сети с помощью фрэймворков тренировки нейронных сетей как: Torch или Tensorflow. Скомпилировать нейронную сеть выбрав функцию потерь и оптимизатор соответственно. Оценить точность полученных результатов. Вывести предсказанные данные о продаже. \n",
        "\n",
        "\n",
        "### Импорт библиотек\n",
        "Импортируем необходимые библиотеки:"
      ],
      "attachments":{
        
      },
      "metadata":{
        
      }
    },
    {
      "cell_type":"code",
      "source":[
        "import numpy as np\n",
        "import pandas as pd\n",
        "import matplotlib.pyplot as plt\n",
        "from sklearn.model_selection import train_test_split"
      ],
      "execution_count":1,
      "outputs":[
        
      ],
      "metadata":{
        
      }
    },
    {
      "cell_type":"markdown",
      "source":[
        "### Считываем набор данных\n",
        "\n",
        "\n",
        "Загрузим набор данных и присвоим следующими переменные:\n",
        "\n",
        "* `train_data`: данные, используемые для обучения модели\n",
        "* `test_data`: данные, используемые для проверки модели"
      ],
      "attachments":{
        
      },
      "metadata":{
        
      }
    },
    {
      "cell_type":"code",
      "source":[
        "train_data = pd.read_csv('\/data\/notebook_files\/train.csv')\n",
        "test_data = pd.read_csv('\/data\/notebook_files\/test.csv')"
      ],
      "execution_count":2,
      "outputs":[
        
      ],
      "metadata":{
        
      }
    },
    {
      "cell_type":"markdown",
      "source":[
        "## Подготовка данных\n",
        "### Отобразим обучающие и проверочные данные:"
      ],
      "attachments":{
        
      },
      "metadata":{
        
      }
    },
    {
      "cell_type":"code",
      "source":[
        "train_data.head()"
      ],
      "execution_count":3,
      "outputs":[
        
      ],
      "metadata":{
        
      }
    },
    {
      "cell_type":"code",
      "source":[
        "test_data.head()"
      ],
      "execution_count":4,
      "outputs":[
        
      ],
      "metadata":{
        
      }
    },
    {
      "cell_type":"markdown",
      "source":[
        "Как можно видеть, `train_data` имеет на один столбец больше, чем `test_data`, это столбец `SalePrice`, для обучения модели перед применением ее для предсказания меток в test_data."
      ],
      "attachments":{
        
      },
      "metadata":{
        
      }
    },
    {
      "cell_type":"markdown",
      "source":[
        "### Проверяем нет ли тестовые данные пустых значений значений (Nan)\n",
        "\n",
        "Построим функцию `def missing_value_checker` для проверки и подсчёта пропущеных значений в test_data. А также выведем тип данных этих значений.\n"
      ],
      "attachments":{
        
      },
      "metadata":{
        
      }
    },
    {
      "cell_type":"code",
      "source":[
        "def missing_value_checker(data):\n",
        "    list = []\n",
        "    for feature, content in data.items():\n",
        "        if data[feature].isnull().values.any():\n",
        "            \n",
        "            sum = data[feature].isna().sum()\n",
        "\n",
        "            type = data[feature].dtype\n",
        "\n",
        "            print (f'{feature}: {sum}, type: {type}')\n",
        "            \n",
        "            list.append(feature)\n",
        "    print(list)\n",
        "\n",
        "    print(len(list))\n",
        "\n",
        "missing_value_checker(test_data)"
      ],
      "execution_count":5,
      "outputs":[
        
      ],
      "metadata":{
        
      }
    },
    {
      "cell_type":"markdown",
      "source":[
        "Проверяем какие признаки в таблице можно оставить, а какие удалить. Если пропущенных значений слишком много, то удалим признак. Если их небольшое количество, то заполним `mean` или `median` для чисел, новая категория `missing` для строковых объектов.\n",
        "\n",
        "В соответствии с этим:\n",
        "\n",
        "– удалим ['Alley', 'FireplaceQu', 'PoolQC', 'Fence', 'MiscFeature'];\n",
        "\n",
        "– заполним числовое отсутствующее значение значением `mean`;\n",
        "\n",
        "– заполним строковое отсутствующее значение значением `missing`."
      ],
      "attachments":{
        
      },
      "metadata":{
        
      }
    },
    {
      "cell_type":"code",
      "source":[
        "test_edited = test_data.drop(['Alley','FireplaceQu','PoolQC', 'Fence', 'MiscFeature'], axis=1)\n",
        "train_edited = train_data.drop(['Alley','FireplaceQu','PoolQC', 'Fence', 'MiscFeature'], axis=1)\n",
        "\n",
        "def nan_filler(data):\n",
        "    for label, content in data.items():\n",
        "        if pd.api.types.is_numeric_dtype(content):\n",
        "            data[label] = content.fillna(content.median())\n",
        "        else:\n",
        "            data[label] = content.astype(\"category\").cat.as_ordered()\n",
        "            data[label] = pd.Categorical(content).codes+1\n",
        "\n",
        "nan_filler(test_edited)\n",
        "nan_filler(train_edited)"
      ],
      "execution_count":7,
      "outputs":[
        
      ],
      "metadata":{
        
      }
    },
    {
      "cell_type":"markdown",
      "source":[
        "### Перепроверим наши данные:"
      ],
      "attachments":{
        
      },
      "metadata":{
        
      }
    },
    {
      "cell_type":"code",
      "source":[
        "missing_value_checker(test_edited)"
      ],
      "execution_count":8,
      "outputs":[
        
      ],
      "metadata":{
        
      }
    },
    {
      "cell_type":"code",
      "source":[
        "missing_value_checker(train_edited)"
      ],
      "execution_count":9,
      "outputs":[
        
      ],
      "metadata":{
        
      }
    },
    {
      "cell_type":"code",
      "source":[
        "train_edited.shape, test_edited.shape"
      ],
      "execution_count":10,
      "outputs":[
        
      ],
      "metadata":{
        
      }
    },
    {
      "cell_type":"code",
      "source":[
        "test_edited.info()"
      ],
      "execution_count":11,
      "outputs":[
        
      ],
      "metadata":{
        
      }
    },
    {
      "cell_type":"code",
      "source":[
        "train_edited.info()"
      ],
      "execution_count":12,
      "outputs":[
        
      ],
      "metadata":{
        
      }
    },
    {
      "cell_type":"markdown",
      "source":[
        "### Разделим данные\n",
        "\n",
        "Поскольку мы не знаем метку (Цена) тестовых данных, для оценки модели, чтобы получить лучшую модель перед прогнозированием тестовых данных, разделим данные в файле train.scv на обучающие и проверочные данные, соотношение составляет 20%."
      ],
      "attachments":{
        
      },
      "metadata":{
        
      }
    },
    {
      "cell_type":"code",
      "source":[
        "X = train_edited.drop('SalePrice', axis=1)\n",
        "y = train_edited['SalePrice']\n",
        "\n",
        "X_train, X_val, y_train, y_val = train_test_split(X, y, test_size = 0.2)"
      ],
      "execution_count":14,
      "outputs":[
        
      ],
      "metadata":{
        
      }
    },
    {
      "cell_type":"code",
      "source":[
        "X_train.shape, test_edited.shape"
      ],
      "execution_count":15,
      "outputs":[
        
      ],
      "metadata":{
        
      }
    },
    {
      "cell_type":"markdown",
      "source":[
        "## Моделирование"
      ],
      "attachments":{
        
      },
      "metadata":{
        
      }
    },
    {
      "cell_type":"markdown",
      "source":[
        "### Построение и обучение модели"
      ],
      "attachments":{
        
      },
      "metadata":{
        
      }
    },
    {
      "cell_type":"markdown",
      "source":[
        "\n",
        "Создайте последовательную модель нейронной сети с помощью фрэймворков тренировки нейронных сетей как: Torch или Tensorflow. "
      ],
      "attachments":{
        
      },
      "metadata":{
        
      }
    },
    {
      "cell_type":"code",
      "source":[
        "# from tensorflow import keras или import torch\n",
        "model = Sequential(None)\n",
        "# замените None на колличество входных полносвязных слоёв, колличество нейронов, колличество выходов\n",
        "tf.random.set_seed(40) \/ torch.manual_seed(40) #Для обеспечения воспроизводимости результатов устанавливается функция seed"
      ],
      "execution_count":14,
      "outputs":[
        
      ],
      "metadata":{
        
      }
    },
    {
      "cell_type":"markdown",
      "source":[
        "Скомпилируйте нейронную сеть, выбрав функцию потерь и оптимизатор соответственно."
      ],
      "attachments":{
        
      },
      "metadata":{
        
      }
    },
    {
      "cell_type":"code",
      "source":[
        "\n",
        "model.compile(loss=None, optimizer=None, metrics=['mae']) #Для оценки потерь рекомендую использовать MSLE(MeanSquaredLogarithmicError), а также метрику MAE(Mean absolute error)."
      ],
      "execution_count":0,
      "outputs":[
        
      ],
      "metadata":{
        
      }
    },
    {
      "cell_type":"markdown",
      "source":[
        "Обучите модель на обучающих данных `X_train` и `y_train` задав гиперпараметры вашей модели нейронной сети, например количество эпох (epochs), размер мини-выборки (batch_size) и другие."
      ],
      "attachments":{
        
      },
      "metadata":{
        
      }
    },
    {
      "cell_type":"code",
      "source":[
        "history = model.fit(X_train, y_train, None) #замените None на гиперпараметры вашей модели нейронной сети"
      ],
      "execution_count":15,
      "outputs":[
        
      ],
      "metadata":{
        
      }
    },
    {
      "cell_type":"markdown",
      "source":[
        "**Оцените полученные результаты**"
      ],
      "attachments":{
        
      },
      "metadata":{
        
      }
    },
    {
      "cell_type":"code",
      "source":[
        "pd.DataFrame(history.history).plot()\n",
        "plt.ylabel('accuracy')\n",
        "plt.xlabel('epoch')\n",
        "print(history.history)"
      ],
      "execution_count":17,
      "outputs":[
        
      ],
      "metadata":{
        
      }
    },
    {
      "cell_type":"code",
      "source":[
        "scores = model.evaluate(X_val, y_val, verbose=1)"
      ],
      "execution_count":17,
      "outputs":[
        
      ],
      "metadata":{
        
      }
    },
    {
      "cell_type":"markdown",
      "source":[
        "### Предсказание"
      ],
      "attachments":{
        
      },
      "metadata":{
        
      }
    },
    {
      "cell_type":"code",
      "source":[
        "preds = model.predict(test_edited)\n",
        "preds"
      ],
      "execution_count":43,
      "outputs":[
        
      ],
      "metadata":{
        
      }
    },
    {
      "cell_type":"code",
      "source":[
        "output = pd.DataFrame(\n",
        "{\n",
        "    'Id':test_data['Id'],\n",
        "    'SalePrice': np.squeeze(preds)\n",
        "})\n",
        "output\n",
        "#print (output)"
      ],
      "execution_count":39,
      "outputs":[
        
      ],
      "metadata":{
        
      }
    },
    {
      "cell_type":"markdown",
      "source":[
        "\n",
        "**При выполнении:**\n",
        "\n",
        "Выведите отчет нейросетевой регрессионной модели, для  прогнозирование цен на жилье. \n",
        "\n",
        "Подберить разные комбинации гиперпараметров таким образом, чтобы получить лучший результат на тестовом наборе данных.\n",
        "\n",
        "Попробуйте использовать разное количество нейронов на входном слое, например 100, 150, 200 300.\n",
        "\n",
        "Добавьте в нейронную сеть скрытый слой с разным количеством нейронов.\n",
        "\n",
        "Используйте разное количество эпох: 10, 15, 20, 25, 30.\n",
        "\n",
        "Используйте разные размеры мини-выборки (batch_size): 10, 50, 100, 200.\n",
        "\n",
        "Попробуйте использовать разные значения оптимизатора `optimizers` и функции потерь `loss`. Сравните полученые результаты.\n",
        "\n",
        "**Вопросы:**\n",
        "\n",
        "Как выше перечисленные параметры влияют на полученный вами результат? \n",
        "\n",
        "Что такое эпоха (Epoch)? В чем отличие от итерации (Iteration)?\n",
        "\n",
        "Что такое функция активации? Какие вам известны?\n",
        "\n",
        "Что такое MSE(Mean Squared Error) - Средняя квадратичная ошибка? Что такое MAE(Mean Absolute Error)? Для чего используются."
      ],
      "attachments":{
        
      },
      "metadata":{
        
      }
    }
  ],
  "metadata":{
    
  },
  "nbformat":4,
  "nbformat_minor":0
}
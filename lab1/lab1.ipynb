{
  "cells": [
    {
      "attachments": {},
      "cell_type": "markdown",
      "metadata": {},
      "source": [
        "# Распознавание активности человека на основе данных с мобильных сенсоров\n",
        "\n",
        "Необходимо по данным с мобильных сенсоров при помощи прикладных алгоритмов машинного обучения предсказать активность человека по шести классам движений:\n",
        "* Движется по прямой\n",
        "* Движется вверх (например, движение по лестнице вверх)\n",
        "* Движется вниз (например, движение по лестнице вниз)\n",
        "* Сидит\n",
        "* Стоит\n",
        "* Лежит\n",
        "\n",
        "## Сведения о наборе данных\n",
        "Набор данных содержит записи датчиков со сматфонов (акселерометр и гироскоп с частотой дискретизации 50 Гц) от 30 участников, выполняющих следующие действия: ходьба, ходьба по лестнице, ходьба по лестнице, сидение, стояние и лежание. Данные были предварительно обработаны при помощи фильтров шума. Набор данных представлен Хорхе Л. Рейес-Ортисом.\n",
        "\n",
        "Признаки были извлечены из 3-х осевых необработанных сигналов акселерометра и гироскопа tAcc-XYZ и tGyro-XYZ. Эти сигналы были сняты с постоянной частотой 50 Гц. Затем были отфильтрованны с помощью медианного фильтра и низкочастотного фильтра Баттерворта 3-го порядка с частотой 20 Гц для удаления шумов. Аналогичным образом сигнал ускорения был разделен на сигналы ускорения тела и гравитации (`tBodyAcc-XYZ` и `tGravityAcc-XYZ`) с помощью другого низкочастотного фильтра Баттерворта с угловой частотой 0,3 Гц. Линейное ускорение тела и угловая скорость были использованы для получения сигналов \"рывка\" — (`tBodyAccJerk-XYZ` и `tBodyGyroJerk-XYZ`). Также величина этих трехмерных сигналов была расчитана с использованием евклидовой нормы — (`tBodyAccMag`, `tGravityAccMag`, `tBodyAccJerkMag`, `tBodyGyroMag`, `tBodyGyroJerkMag`). \n",
        "\n",
        "Наконец, к некоторым из этих сигналов было применено быстрое преобразование Фурье (БПФ), в результате чего получились `fBodyAcc-XYZ`, `fBodyAccJerk-XYZ`, `fBodyGyro-XYZ`, `fBodyAccJerkMag`, `fBodyGyroMag`, `fBodyGyroJerkMag`. (Обратите внимание на \"f\" для обозначения сигналов в частотной области). \n",
        "\n",
        "Набор переменных, которые были оценены по этим сигналам, следующий: \n",
        "* mean(): Среднее значение\n",
        "* std(): Стандартное отклонение\n",
        "* mad(): Среднее абсолютное отклонение \n",
        "* max(): Наибольшее значение в массиве\n",
        "* min(): Наименьшее значение в массиве\n",
        "* sma(): Область величины сигнала\n",
        "* energy(): Мера энергии. Сумма квадратов, деленная на количество значений. \n",
        "* iqr(): Интерквартильный размах \n",
        "* entropy(): Энтропия сигнала\n",
        "* arCoeff(): Коэффициенты авторегрессии с порядком Burg, равным 4\n",
        "* correlation(): коэффициент корреляции между двумя сигналами\n",
        "* maxInds(): индекс частотной составляющей с наибольшей величиной\n",
        "* meanFreq(): средневзвешенное значение частотных компонент для получения средней частоты\n",
        "* skewness(): перекос сигнала в частотной области \n",
        "* kurtosis(): эксцесс сигнала в частотной области \n",
        "* bandsEnergy(): Энергия частотного интервала в пределах 64 бинов БПФ каждого окна.\n",
        "* angle(): Угол между векторами.\n",
        "## Импорт библиотек\n",
        "Первым делом импортируем необходимые библиотеки для работы с данными:"
      ]
    },
    {
      "cell_type": "code",
      "execution_count": null,
      "metadata": {},
      "outputs": [],
      "source": [
        "import os\n",
        "import numpy as np\n",
        "import pandas as pd"
      ]
    },
    {
      "attachments": {},
      "cell_type": "markdown",
      "metadata": {},
      "source": [
        "## Считываем набор данных\n",
        "\n",
        "В прикладных задачах машинного обучения очень важен процесс извлечения признаков (feature extraction), в ходе которого данные интерпретируются в информативные признаки. Также этот процесс может называться проектирование признаков (feature engineering), это весьма трудоемкая и творческая задача. В рамках работы мы опустим эту часть и поспользуемся предобработанными данными. "
      ]
    },
    {
      "cell_type": "code",
      "execution_count": null,
      "metadata": {},
      "outputs": [],
      "source": [
        "def read_data(path, filename):\n",
        "    return pd.read_csv(os.path.join(path, filename))\n",
        "\n",
        "df = read_data('./data/notebook_files/', 'train.csv')\n",
        "df.head()"
      ]
    },
    {
      "attachments": {},
      "cell_type": "markdown",
      "metadata": {},
      "source": [
        "Теперь, загрузим полный набор данных и сохранить его под следующими четырьмя переменными:\n",
        "\n",
        "* `train_X`: признаки, используемые для обучения модели\n",
        "* `train_y`: метки, используемые для обучения модели\n",
        "* `test_X`: признаки, используемые для проверки модели\n",
        "* `test_y`: метки, используемые для проверки модели"
      ]
    },
    {
      "cell_type": "code",
      "execution_count": null,
      "metadata": {},
      "outputs": [],
      "source": [
        "def load_dataset(label_dict):\n",
        "    train_X = read_data('./data/notebook_files', 'train.csv').values[:,:-2]\n",
        "    train_y = read_data('./data/notebook_files', 'train.csv')['Activity']\n",
        "    train_y = train_y.map(label_dict).values\n",
        "    test_X = read_data('./data/notebook_files', 'test.csv').values[:,:-2]\n",
        "    test_y = read_data('./data/notebook_files', 'test.csv')\n",
        "    test_y = test_y['Activity'].map(label_dict).values\n",
        "    return(train_X, train_y, test_X, test_y)\n",
        "label_dict = {'WALKING':0, 'WALKING_UPSTAIRS':1, 'WALKING_DOWNSTAIRS':2, 'SITTING':3, 'STANDING':4, 'LAYING':5}\n",
        "train_X, train_y, test_X, test_y = load_dataset(label_dict)"
      ]
    },
    {
      "attachments": {},
      "cell_type": "markdown",
      "metadata": {},
      "source": [
        "## Выбор модели\n",
        "\n",
        "Импортируйте выбранную вами модель из библиотеки `sklearn` и инициализируйте её в объект `model`:"
      ]
    },
    {
      "cell_type": "code",
      "execution_count": null,
      "metadata": {},
      "outputs": [],
      "source": [
        "# from sklearn.модель import название\n",
        "\n",
        "# ниже замените None на инициализацию вашей модели\n",
        "model = None"
      ]
    },
    {
      "attachments": {},
      "cell_type": "markdown",
      "metadata": {},
      "source": [
        "Опишите вашу мотивацию по выбору модели."
      ]
    },
    {
      "attachments": {},
      "cell_type": "markdown",
      "metadata": {},
      "source": [
        "## Обучение модели\n",
        "\n",
        "Обучите модель, используя признаки из обучающего набора (`train_X`) и метки в качестве базовой истины (`train_y`)."
      ]
    },
    {
      "cell_type": "code",
      "execution_count": null,
      "metadata": {},
      "outputs": [],
      "source": [
        "model.fit(train_X, train_y)"
      ]
    },
    {
      "attachments": {},
      "cell_type": "markdown",
      "metadata": {},
      "source": [
        "## Оценка модели\n",
        "Используйте обученную модель для прогнозирования активности движения, используя признаки из тестового набора (`test_X`). Прогнозы сохраните в списке `yhat`."
      ]
    },
    {
      "cell_type": "code",
      "execution_count": null,
      "metadata": {},
      "outputs": [],
      "source": [
        "yhat = model.predict(test_X)\n",
        "yhat"
      ]
    },
    {
      "attachments": {},
      "cell_type": "markdown",
      "metadata": {},
      "source": [
        "Выведите отчет о классификации, сравнив предсказания (`yhat`) с базовой истиной (`test_y`).\n",
        "\n",
        "В чем разница между показателями `precision` и `recall`? Что такое показатель `F1`?"
      ]
    },
    {
      "cell_type": "code",
      "execution_count": null,
      "metadata": {},
      "outputs": [],
      "source": [
        "from sklearn.metrics import classification_report\n",
        "target_names = ['Walking', 'Walking Upstairs', 'Walking Downstairs', 'Sitting', 'Standing', 'Laying']\n",
        "\n",
        "print(classification_report(test_y, yhat, target_names=target_names))"
      ]
    }
  ],
  "metadata": {
    "interpreter": {
      "hash": "68c7bc2641acd3a11f099500c4ef371bd080df7aaff8610c876a85cb8cf59ddc"
    },
    "kernelspec": {
      "display_name": "Python 3.9.7 64-bit",
      "name": "python3"
    },
    "language_info": {
      "codemirror_mode": {
        "name": "ipython",
        "version": 3
      },
      "file_extension": ".py",
      "mimetype": "text/x-python",
      "name": "python",
      "nbconvert_exporter": "python",
      "pygments_lexer": "ipython3",
      "version": "3.9.7"
    }
  },
  "nbformat": 4,
  "nbformat_minor": 0
}
